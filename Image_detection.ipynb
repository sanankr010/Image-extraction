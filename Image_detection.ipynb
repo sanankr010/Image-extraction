{
 "cells": [
  {
   "cell_type": "markdown",
   "metadata": {},
   "source": [
    "In the given problem i used simply haarcascade to detect the face. Reszize the rectangle to fit the image. we can use use \n",
    "half body detection for this perticular image.we can also generalise this using object detection. "
   ]
  },
  {
   "cell_type": "code",
   "execution_count": 1,
   "metadata": {},
   "outputs": [],
   "source": [
    "import cv2"
   ]
  },
  {
   "cell_type": "code",
   "execution_count": 2,
   "metadata": {},
   "outputs": [],
   "source": [
    "def face_boundry(img,classifier,scaleFactor,minNeighour,color,text):\n",
    "    gray_img=cv2.cvtColor(img,cv2.COLOR_RGB2GRAY)\n",
    "    features = classifier.detectMultiScale(gray_img,scaleFactor,minNeighour)\n",
    "    coords=[]\n",
    "    for (x,y,w,h) in features:\n",
    "        #adjust the rectancle for whole image\n",
    "        cv2.rectangle(img,(x-155,y-130),(x+w+120,y+h+265),color,2)\n",
    "        #crop the frame\n",
    "        sub_face = img[y-130:y+h+265, x-155:x+w+120]\n",
    "        FaceFileName = \"face_\" + str(y) + \".jpg\"\n",
    "        #save the image using imwrite\n",
    "        cv2.imwrite(FaceFileName, sub_face)\n",
    "        #cv2.putText(img,text,(x,y-4),cv2.FONT_HERSHEY_PLAIN,0.8,color,1,cv2.LINE_AA)  //no need label the image\n",
    "        coords=[x,y,w,h]\n",
    "    return coords,img    "
   ]
  },
  {
   "cell_type": "code",
   "execution_count": 3,
   "metadata": {},
   "outputs": [],
   "source": [
    "def Detect(img,faceCascade):\n",
    "    color={\"blue\":(255,0,0),\"red\":(0,0,255),\"green\":(0,255,0)}\n",
    "    coords,img = face_boundry(img,faceCascade,1.1,5,color[\"blue\"],\"face\")\n",
    "    return img"
   ]
  },
  {
   "cell_type": "code",
   "execution_count": 4,
   "metadata": {},
   "outputs": [],
   "source": [
    "img=cv2.imread('0.png')\n",
    "#cv2.imshow('image0',img)"
   ]
  },
  {
   "cell_type": "code",
   "execution_count": 5,
   "metadata": {},
   "outputs": [
    {
     "ename": "AttributeError",
     "evalue": "module 'cv2' has no attribute 'destroyAllWindow'",
     "output_type": "error",
     "traceback": [
      "\u001b[1;31m---------------------------------------------------------------------------\u001b[0m",
      "\u001b[1;31mAttributeError\u001b[0m                            Traceback (most recent call last)",
      "\u001b[1;32m<ipython-input-5-7e9efaec8e86>\u001b[0m in \u001b[0;36m<module>\u001b[1;34m()\u001b[0m\n\u001b[0;32m      5\u001b[0m \u001b[0mcv2\u001b[0m\u001b[1;33m.\u001b[0m\u001b[0mimshow\u001b[0m\u001b[1;33m(\u001b[0m\u001b[1;34m\"image\"\u001b[0m\u001b[1;33m,\u001b[0m\u001b[0mimS\u001b[0m\u001b[1;33m)\u001b[0m\u001b[1;33m\u001b[0m\u001b[0m\n\u001b[0;32m      6\u001b[0m \u001b[0mcv2\u001b[0m\u001b[1;33m.\u001b[0m\u001b[0mwaitKey\u001b[0m\u001b[1;33m(\u001b[0m\u001b[1;36m0\u001b[0m\u001b[1;33m)\u001b[0m\u001b[1;33m\u001b[0m\u001b[0m\n\u001b[1;32m----> 7\u001b[1;33m \u001b[0mcv2\u001b[0m\u001b[1;33m.\u001b[0m\u001b[0mdestroyAllWindow\u001b[0m\u001b[1;33m(\u001b[0m\u001b[1;33m)\u001b[0m\u001b[1;33m\u001b[0m\u001b[0m\n\u001b[0m",
      "\u001b[1;31mAttributeError\u001b[0m: module 'cv2' has no attribute 'destroyAllWindow'"
     ]
    }
   ],
   "source": [
    "faceCascade=cv2.CascadeClassifier(\"haarcascade_frontalface_default.xml\")\n",
    "\n",
    "img1=Detect(img,faceCascade)\n",
    "imS = cv2.resize(img1, (960, 540))\n",
    "cv2.imshow(\"image\",imS)\n",
    "cv2.waitKey(0) \n",
    "cv2.destroyAllWindow()"
   ]
  },
  {
   "cell_type": "code",
   "execution_count": null,
   "metadata": {},
   "outputs": [],
   "source": []
  }
 ],
 "metadata": {
  "kernelspec": {
   "display_name": "Python 3",
   "language": "python",
   "name": "python3"
  },
  "language_info": {
   "codemirror_mode": {
    "name": "ipython",
    "version": 3
   },
   "file_extension": ".py",
   "mimetype": "text/x-python",
   "name": "python",
   "nbconvert_exporter": "python",
   "pygments_lexer": "ipython3",
   "version": "3.6.5"
  }
 },
 "nbformat": 4,
 "nbformat_minor": 2
}
