{
 "cells": [
  {
   "cell_type": "code",
   "execution_count": 5,
   "metadata": {},
   "outputs": [],
   "source": [
    "#My task is to extract the image in pdf file 'Task.pdf'\n",
    "#at first i installed PyMuPDF through pip install and then import fitz\n",
    "#fitz is python binding which is used to extract the information from pdf\n",
    "import fitz"
   ]
  },
  {
   "cell_type": "code",
   "execution_count": 6,
   "metadata": {},
   "outputs": [],
   "source": [
    "#open is mathod of fitz by which we can open pdf file .\n",
    "assignment = fitz.open(\"Task.pdf\")"
   ]
  },
  {
   "cell_type": "code",
   "execution_count": 7,
   "metadata": {},
   "outputs": [],
   "source": [
    "#in this task i know that image which i have to extract is in 2nd page and only one image is there\n",
    "#we can aslo implement this to extract all the images present in pdf\n",
    "for image in assignment.getPageImageList(1):\n",
    "    j=0\n",
    "    ref=image[0]\n",
    "    #pixmap is used to map the image in different format\n",
    "    pic=fitz.Pixmap(assignment,ref)\n",
    "    fpic=fitz.Pixmap(fitz.csRGB,pic)\n",
    "    fpic.writePNG(str(j)+\".png\")\n",
    "    #after save image pic and fpic made none\n",
    "    pic=None\n",
    "    fpic=None\n",
    "    j=j+1\n",
    "#this code is applicable to extract all the images present in page no 2 of file 'Task.pdf'"
   ]
  },
  {
   "cell_type": "code",
   "execution_count": null,
   "metadata": {},
   "outputs": [],
   "source": []
  }
 ],
 "metadata": {
  "kernelspec": {
   "display_name": "Python 3",
   "language": "python",
   "name": "python3"
  },
  "language_info": {
   "codemirror_mode": {
    "name": "ipython",
    "version": 3
   },
   "file_extension": ".py",
   "mimetype": "text/x-python",
   "name": "python",
   "nbconvert_exporter": "python",
   "pygments_lexer": "ipython3",
   "version": "3.6.5"
  }
 },
 "nbformat": 4,
 "nbformat_minor": 2
}
